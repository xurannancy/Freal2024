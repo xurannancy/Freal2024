{
 "cells": [
  {
   "cell_type": "markdown",
   "metadata": {},
   "source": [
    "# <span style=\"color:blue\"> Welcome! Data Analytics Final (50 pts + 5 bonus pts)</span>\n",
    "\n",
    "(That is, if you received 40/50 from the main exam and 5/5 from the bonus points, your total score would be 45/50.) \n",
    "\n",
    "<b>Background:</b> The Federal Open Market Committee (FOMC), a committee within the Federal Reserve System, meet about 8 times a year to make monetary policy decisions. Their meeting minutes are made public shortly after the meeting. There are 240 meetings from February 4, 1994 to December 13, 2023. \n",
    "\n",
    "<b>Question 1: Calculate negative sentiment score of one meeting (15 pts)</b>\n",
    "  -  <font color='red'>Class material: Last example of 1.6</font>\n",
    " \n",
    "<b>Question 2: Calculate negative sentiment scores of all March meetings from 1994 to 2023 (10 pts)</b>\n",
    " - 2.1. Calculate negative sentiment scores for each of these 30 txt minutes files. (+5)\n",
    " - 2.2 Plot the time series (+5)\n",
    " - <font color='red'>Class material: 1.6, plots</font>\n",
    "\n",
    "<b>Question 3: Import external csv, collapse the negative sentiment variable to yearly frequency, analyze stock return sensitivity to negative sentiment at the yearly frequency (25 pts)</b>\n",
    " - 3.1 Import external csv files (+2)\n",
    " - 3.2 Calculate and print yearly negative sentiment (+10)\n",
    " - 3.3 Analyze stock return sensitivity to negative sentiment (+13)\n",
    " - <font color='red'>Class material: 2.3 (np.mean, conditioning array), 2.5 (conditioning array, for loops, regression, identify year from date)</font>\n",
    " - <font color='red'>To avoid double punishing, you don't need Question 1 or 2 to answer Question 3.</font>\n",
    "\n",
    "\n",
    "<b>Best of luck!</b>"
   ]
  },
  {
   "cell_type": "markdown",
   "metadata": {},
   "source": [
    "<div class=\"alert-danger\">\n",
    "    <b>Honor Pledge:</b> Please print the following.\n",
    "</div>"
   ]
  },
  {
   "cell_type": "code",
   "execution_count": null,
   "metadata": {
    "scrolled": true
   },
   "outputs": [],
   "source": [
    "print(\"I affirm that I will not give or receive any unauthorized direct help on this final exam, and that all work will be my own: \")\n",
    "import time\n",
    "time.ctime() "
   ]
  },
  {
   "cell_type": "code",
   "execution_count": null,
   "metadata": {
    "scrolled": true
   },
   "outputs": [],
   "source": [
    "# Enter yuor interformation\n",
    "name = \"ABD\"              # Enter your name\n",
    "user = \"abc\"              # Enter your BC username\n",
    "print(\"Final submission for {} ({})\".format(name,user))"
   ]
  },
  {
   "cell_type": "markdown",
   "metadata": {},
   "source": [
    "Please make sure that you have created your own file <b>Final2024-user.ipynb</b> using \"Save Notebook As\" under the \"File\" dropdown."
   ]
  },
  {
   "cell_type": "code",
   "execution_count": null,
   "metadata": {},
   "outputs": [],
   "source": [
    "# You might find them helpful\n",
    "import math\n",
    "import statistics\n",
    "import pandas\n",
    "import numpy as np\n",
    "import matplotlib.pyplot as plt\n",
    "import scipy.stats as stats            # Basic package for basic univariate regressions\n",
    "import statsmodels.api as statsmod           # More sophisticated package for univariate and multivariate regressions\n",
    "import pandas"
   ]
  },
  {
   "cell_type": "code",
   "execution_count": null,
   "metadata": {},
   "outputs": [],
   "source": [
    "def reg_m(y, x):\n",
    "    X = np.hstack((np.ones((len(x),1)), x))     \n",
    "    results = statsmod.OLS(y, X).fit()                \n",
    "    return results"
   ]
  },
  {
   "cell_type": "markdown",
   "metadata": {},
   "source": [
    "## <span style=\"color:blue\"> 1. Calculate negative sentiment score of one meeting (15 pts)</span> \n",
    "\n",
    "<b>In this question:</b> You are asked to measure central bankers' negative sentiment in the <b>20200315.txt</b> meeting file [+12 pts], and then print the finding out clearly in a sentence [+3 pts]. \n",
    "\n",
    "<b>A few notes:</b> \n",
    " - Definition of negative sentiment score from 1.6: $\\mbox{Negative}_{20200315} = \\frac{\\mbox{Total number of Negative Words}_{20200315}}{\\mbox{Total number of words}_{20200315}}\\times 100$\n",
    " - Negative sentiment keyword list: \"KEYWORD_NEGATIVE.txt\"\n",
    "\n",
    "<b>Professor trying to be helpful:</b> To save you time, please don't worry about stop words when calculating the total number of words and please simply apply whatever we did in class; that should be sufficient. "
   ]
  },
  {
   "cell_type": "code",
   "execution_count": null,
   "metadata": {},
   "outputs": [],
   "source": [
    "# To help get you started smoothly, I provide the NEXT THREE BLOCKS. Hope it is helpful.\n",
    "def Input(filename):\n",
    "    f = open(filename, 'r')  #some machines might use encoding=\"utf8\"\n",
    "    lines = f.readlines()\n",
    "    lines = [l.strip() for l in lines]  # output will be a list of strings where each string corresponds to each line\n",
    "    f.close()\n",
    "    return lines"
   ]
  },
  {
   "cell_type": "code",
   "execution_count": null,
   "metadata": {},
   "outputs": [],
   "source": [
    "# Import the negative, positive, and stop words\n",
    "list_neg = Input('KEYWORD_NEGATIVE.txt')"
   ]
  },
  {
   "cell_type": "code",
   "execution_count": null,
   "metadata": {},
   "outputs": [],
   "source": [
    "# Import the negative, positive, and stop words\n",
    "filename = '20200315.txt'\n",
    "FOMC = Input(filename)    # read each line as a string"
   ]
  },
  {
   "cell_type": "code",
   "execution_count": null,
   "metadata": {
    "scrolled": true
   },
   "outputs": [],
   "source": [
    "# Your codes here [+12 pts]"
   ]
  },
  {
   "cell_type": "code",
   "execution_count": null,
   "metadata": {
    "scrolled": true
   },
   "outputs": [],
   "source": [
    "# Please complete and print the following sentence using print+format (rounding the percentage as specified) [+3 pts] \n",
    "# During this FOMC meeting, XX of XXXX words (or {X.XX}%) are related to negative sentiment."
   ]
  },
  {
   "cell_type": "markdown",
   "metadata": {},
   "source": [
    "## <span style=\"color:blue\"> 2. Calculate negative sentiment scores of all March meetings from 1994 to 2023 (10 pts)</span> \n",
    "\n",
    "<b>In this question:</b> You are asked to create a list or numpy array (at your choice) of negative sentiment scores, respectivesly. This list or array should contain <font color=\"red\"><b>30 data points</b></font>, because there should only be one March meeting within each year. For your convenience, I provide a list named \"MarchMeetings\" that gives you the filenames of all March meetings from 1994 to 2023. \n",
    "\n",
    "Please produce and print out the list/array of 30 data points [+5 pts], and then show a time series plot of negative sentiment scores over time, with appropriate labels and x axis [+5 pts]. \n",
    "\n",
    "<b>Professor trying to be helpful:</b> You <b>don't</b> need to use for loops in order to receive full points in this question. "
   ]
  },
  {
   "cell_type": "code",
   "execution_count": null,
   "metadata": {},
   "outputs": [],
   "source": [
    "MarchMeetings = ['19940322.txt','19950328.txt','19960326.txt','19970325.txt','19980331.txt','19990330.txt','20000321.txt','20010320.txt','20020319.txt','20030318.txt', '20040316.txt', \t'20050322.txt', \t'20060328.txt', \t'20070321.txt', \t'20080318.txt', \t'20090318.txt', \t'20100316.txt',  '20110315.txt',  '20120313.txt',  '20130320.txt',  '20140319.txt',  '20150318.txt', \t'20160316.txt',  '20170315.txt',  '20180321.txt',  '20190320.txt',  '20200315.txt',  '20210317.txt', '20220316.txt',  '20230322.txt']\n",
    "print(MarchMeetings[0], MarchMeetings[-1], len(MarchMeetings))"
   ]
  },
  {
   "cell_type": "code",
   "execution_count": null,
   "metadata": {
    "scrolled": true
   },
   "outputs": [],
   "source": [
    "# 2.1 Calculate and PRINT negative sentiment scores for these 30 files. [+5 pts]\n",
    "# At the end of the block, we are expecting to see 30 numbers.\n",
    "# Your codes here"
   ]
  },
  {
   "cell_type": "code",
   "execution_count": null,
   "metadata": {},
   "outputs": [],
   "source": [
    "# 2.2 Plot the time series of negative sentiment from 1994 to 2023 [+5 pts]"
   ]
  },
  {
   "attachments": {},
   "cell_type": "markdown",
   "metadata": {},
   "source": [
    "## <span style=\"color:blue\"> 3. Import external csv, collapse the negative sentiment variable to yearly frequency from 1994 to 2023, analyze stock return sensitivity to negative sentiment (25pts)</span> \n",
    "\n",
    "<b>Sentiment data: \"Q3.csv\"</b>\n",
    "  - Column 1 \"date\": Specific dates of 240 FOMC meetings from 1994 to 2023; that is, we no longer limit ourselves to March meetings.\n",
    "  - Column 2 \"NEGMENTION\": Negative sentiment score during this meeting\n",
    "\n",
    "\n",
    "\n",
    "<b>Asset price data: \"Stock.csv\"</b>\n",
    "  - Column 1 \"year\": Year\n",
    "  - Column 2 \"StockRet\": Annual stock return in percent\n"
   ]
  },
  {
   "cell_type": "code",
   "execution_count": null,
   "metadata": {},
   "outputs": [],
   "source": [
    "# 3.1 Demonstrate you know how to import external csv files. [+2 pts]"
   ]
  },
  {
   "cell_type": "code",
   "execution_count": null,
   "metadata": {},
   "outputs": [],
   "source": [
    "# 3.2 Calculate and print yearly negative sentiment. [+10 pts]\n",
    "# That is, take one year at a time, and calculate the AVERAGE of \n",
    "# all negative sentiment scores within this year.  \n",
    "\n",
    "# Hint 1: You can use conditioning array to create subsample of each year, calculate average, and store it somewhere using for loop. \n",
    "# Hint 2: Notice the date variable is yyyymmdd, not in year; how do you generate a year from a date variable? "
   ]
  },
  {
   "cell_type": "code",
   "execution_count": null,
   "metadata": {},
   "outputs": [],
   "source": [
    "# Your codes here"
   ]
  },
  {
   "cell_type": "code",
   "execution_count": null,
   "metadata": {},
   "outputs": [],
   "source": [
    "# 3.3 Analyze stock return sensitivity to negative sentiment. [+13 pts]\n",
    "# Regression setup [+8]\n",
    "# Discussions [+5]"
   ]
  },
  {
   "cell_type": "code",
   "execution_count": null,
   "metadata": {},
   "outputs": [],
   "source": [
    "# Your codes here"
   ]
  },
  {
   "cell_type": "markdown",
   "metadata": {},
   "source": [
    "  "
   ]
  },
  {
   "cell_type": "code",
   "execution_count": null,
   "metadata": {},
   "outputs": [],
   "source": [
    "# Your discussions in lockdown below (double click to start editing)"
   ]
  },
  {
   "cell_type": "markdown",
   "metadata": {},
   "source": [
    "    "
   ]
  },
  {
   "cell_type": "markdown",
   "metadata": {},
   "source": [
    "   "
   ]
  },
  {
   "cell_type": "markdown",
   "metadata": {},
   "source": [
    "   "
   ]
  },
  {
   "cell_type": "markdown",
   "metadata": {},
   "source": [
    " -------------------"
   ]
  },
  {
   "cell_type": "markdown",
   "metadata": {},
   "source": [
    "## Bonus question [+5] Obtain positive sentiment scores of the 30 March Meetings, and evaluate how sensitivity positive sentiment is to negative sentiment? "
   ]
  },
  {
   "cell_type": "code",
   "execution_count": null,
   "metadata": {},
   "outputs": [],
   "source": [
    "# Your codes here."
   ]
  },
  {
   "cell_type": "markdown",
   "metadata": {},
   "source": [
    " "
   ]
  },
  {
   "cell_type": "code",
   "execution_count": null,
   "metadata": {},
   "outputs": [],
   "source": [
    "# To conserve your time, please try to write a couple of sentences to discuss your findings."
   ]
  },
  {
   "cell_type": "markdown",
   "metadata": {},
   "source": [
    "  "
   ]
  },
  {
   "cell_type": "markdown",
   "metadata": {},
   "source": [
    "  "
   ]
  },
  {
   "cell_type": "markdown",
   "metadata": {},
   "source": [
    " -----------------"
   ]
  },
  {
   "cell_type": "markdown",
   "metadata": {},
   "source": [
    "### Great job! You have reached the end. Please <span style=\"color:red\">save</span> your compiled notebook, <span style=\"color:red\">click \"File --> Log Out\"</span> in order to submit your work. \n",
    "\n",
    "Keep in touch! \n",
    "\n",
    "Warmly, \n",
    "Professor Xu"
   ]
  },
  {
   "cell_type": "code",
   "execution_count": null,
   "metadata": {
    "scrolled": true
   },
   "outputs": [],
   "source": [
    "import time\n",
    "time.ctime()"
   ]
  },
  {
   "cell_type": "code",
   "execution_count": null,
   "metadata": {},
   "outputs": [],
   "source": []
  }
 ],
 "metadata": {
  "kernelspec": {
   "display_name": "Python 3 (ipykernel)",
   "language": "python",
   "name": "python3"
  },
  "language_info": {
   "codemirror_mode": {
    "name": "ipython",
    "version": 3
   },
   "file_extension": ".py",
   "mimetype": "text/x-python",
   "name": "python",
   "nbconvert_exporter": "python",
   "pygments_lexer": "ipython3",
   "version": "3.11.7"
  }
 },
 "nbformat": 4,
 "nbformat_minor": 4
}
